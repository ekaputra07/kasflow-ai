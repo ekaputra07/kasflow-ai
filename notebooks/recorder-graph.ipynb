{
 "cells": [
  {
   "cell_type": "code",
   "execution_count": 1,
   "id": "a59f6e80",
   "metadata": {},
   "outputs": [],
   "source": [
    "from utils import set_env\n",
    "\n",
    "set_env(\"OPENAI_API_KEY\")"
   ]
  },
  {
   "cell_type": "code",
   "execution_count": 7,
   "id": "f7b3912f",
   "metadata": {},
   "outputs": [],
   "source": [
    "from IPython.display import Image, display\n",
    "from kasflow.graphs.recorder import RecorderGraph, RecorderState\n",
    "\n",
    "graph = RecorderGraph()\n",
    "compiled = graph.compiled"
   ]
  },
  {
   "cell_type": "code",
   "execution_count": 8,
   "id": "0c6ede6b",
   "metadata": {},
   "outputs": [
    {
     "data": {
      "image/png": "[encoded data removed]",
      "text/plain": [
       "<IPython.core.display.Image object>"
      ]
     },
     "metadata": {},
     "output_type": "display_data"
    }
   ],
   "source": [
    "display(Image(graph.draw()))"
   ]
  },
  {
   "cell_type": "code",
   "execution_count": 9,
   "id": "d193578b",
   "metadata": {},
   "outputs": [
    {
     "data": {
      "text/plain": [
       "{'expenses': [], 'message': 'Jalan-jalan ke kintamani'}"
      ]
     },
     "execution_count": 9,
     "metadata": {},
     "output_type": "execute_result"
    }
   ],
   "source": [
    "# no expenses detected\n",
    "in_state = RecorderState(message=\"Jalan-jalan ke kintamani\")\n",
    "out_state = compiled.invoke(in_state)\n",
    "out_state"
   ]
  },
  {
   "cell_type": "code",
   "execution_count": 10,
   "id": "1bed52a8",
   "metadata": {},
   "outputs": [
    {
     "data": {
      "text/plain": [
       "{'expenses': [Expense(amount=Decimal('1500000'), category='transportation', description='Servis mobil'),\n",
       "  Expense(amount=Decimal('35000'), category='food', description='Makan siang')],\n",
       " 'message': 'Servis mobil 1.5jt dan Makan siang 35rb'}"
      ]
     },
     "execution_count": 10,
     "metadata": {},
     "output_type": "execute_result"
    }
   ],
   "source": [
    "# expenses detected\n",
    "in_state = RecorderState(message=\"Servis mobil 1.5jt dan Makan siang 35rb\")\n",
    "out_state = compiled.invoke(in_state)\n",
    "out_state"
   ]
  }
 ],
 "metadata": {
  "kernelspec": {
   "display_name": "kasflow",
   "language": "python",
   "name": "python3"
  },
  "language_info": {
   "codemirror_mode": {
    "name": "ipython",
    "version": 3
   },
   "file_extension": ".py",
   "mimetype": "text/x-python",
   "name": "python",
   "nbconvert_exporter": "python",
   "pygments_lexer": "ipython3",
   "version": "3.11.11"
  }
 },
 "nbformat": 4,
 "nbformat_minor": 5
}
