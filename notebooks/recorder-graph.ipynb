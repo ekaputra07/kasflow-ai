{
 "cells": [
  {
   "cell_type": "code",
   "execution_count": 1,
   "id": "a59f6e80",
   "metadata": {},
   "outputs": [],
   "source": [
    "from utils import set_env\n",
    "\n",
    "set_env(\"OPENAI_API_KEY\")"
   ]
  },
  {
   "cell_type": "code",
   "execution_count": 2,
   "id": "f7b3912f",
   "metadata": {},
   "outputs": [],
   "source": [
    "from IPython.display import Image, display\n",
    "from kasflow.graphs.recorder import RecorderGraph, RecorderState\n",
    "from kasflow.store.duckdb import DuckDBStore\n",
    "\n",
    "graph = RecorderGraph()\n",
    "compiled = graph.compiled"
   ]
  },
  {
   "cell_type": "code",
   "execution_count": 3,
   "id": "0c6ede6b",
   "metadata": {},
   "outputs": [
    {
     "data": {
      "image/png": "[encoded data removed]",
      "text/plain": [
       "<IPython.core.display.Image object>"
      ]
     },
     "metadata": {},
     "output_type": "display_data"
    }
   ],
   "source": [
    "display(Image(graph.draw()))"
   ]
  },
  {
   "cell_type": "code",
   "execution_count": 4,
   "id": "d193578b",
   "metadata": {},
   "outputs": [
    {
     "name": "stdout",
     "output_type": "stream",
     "text": [
      "{'expenses': [], 'message': 'Jalan-jalan ke kintamani', 'stored': False}\n"
     ]
    }
   ],
   "source": [
    "# no expenses detected\n",
    "in_state = RecorderState(message=\"Jalan-jalan ke kintamani\")\n",
    "\n",
    "with DuckDBStore(\":memory:\") as store:\n",
    "    out_state = compiled.invoke(in_state, {\"configurable\": {\"store\": store}})\n",
    "    print(out_state)"
   ]
  },
  {
   "cell_type": "code",
   "execution_count": 9,
   "id": "1bed52a8",
   "metadata": {},
   "outputs": [
    {
     "name": "stdout",
     "output_type": "stream",
     "text": [
      "stored: True\n",
      "expenses: [Expense(id=None, amount=Decimal('1500000'), category='transportation', description='Servis mobil'), Expense(id=None, amount=Decimal('35000'), category='food', description='Makan siang')]\n"
     ]
    }
   ],
   "source": [
    "# expenses detected\n",
    "in_state = RecorderState(message=\"Servis mobil 1.5jt dan Makan siang 35rb\")\n",
    "\n",
    "with DuckDBStore(\":memory:\") as store:\n",
    "    out_state = compiled.invoke(in_state, {\"configurable\": {\"store\": store}})\n",
    "\n",
    "    print(f\"stored: {out_state['stored']}\")\n",
    "\n",
    "    if out_state.get(\"store_exception\"):\n",
    "        print(f\"store_exception: {out_state['store_exception']}\")\n",
    "\n",
    "    print(f\"expenses: {out_state['expenses']}\")"
   ]
  }
 ],
 "metadata": {
  "kernelspec": {
   "display_name": ".venv",
   "language": "python",
   "name": "python3"
  },
  "language_info": {
   "codemirror_mode": {
    "name": "ipython",
    "version": 3
   },
   "file_extension": ".py",
   "mimetype": "text/x-python",
   "name": "python",
   "nbconvert_exporter": "python",
   "pygments_lexer": "ipython3",
   "version": "3.11.4"
  }
 },
 "nbformat": 4,
 "nbformat_minor": 5
}
