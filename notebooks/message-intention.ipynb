{
 "cells": [
  {
   "cell_type": "markdown",
   "id": "cbae2a81",
   "metadata": {},
   "source": [
    "## Detect user intention in message"
   ]
  },
  {
   "cell_type": "code",
   "execution_count": 1,
   "id": "ee803adb",
   "metadata": {},
   "outputs": [],
   "source": [
    "from utils import set_env\n",
    "\n",
    "set_env(\"OPENAI_API_KEY\")"
   ]
  },
  {
   "cell_type": "code",
   "execution_count": 20,
   "id": "115d89fb",
   "metadata": {},
   "outputs": [],
   "source": [
    "# Intention schema\n",
    "from typing import Literal\n",
    "from pydantic import BaseModel, Field\n",
    "\n",
    "\n",
    "class IntentionSchema(BaseModel):\n",
    "    intention: Literal[\"chat\", \"record\"] = Field(description=\"Intention detected from user message\")"
   ]
  },
  {
   "cell_type": "code",
   "execution_count": 37,
   "id": "4f7831d4",
   "metadata": {},
   "outputs": [],
   "source": [
    "from langchain_openai import ChatOpenAI\n",
    "from langchain_core.messages import HumanMessage, SystemMessage\n",
    "\n",
    "llm = ChatOpenAI(model=\"gpt-4.1-nano\", temperature=0.0)\n",
    "\n",
    "with_structured = llm.with_structured_output(IntentionSchema)\n",
    "\n",
    "system_prompt = \"\"\"\n",
    "You are an intention classifier. Analyze the user message and classify it as either \"chat\" or \"record\".\n",
    "\n",
    "**Classification Rules:**\n",
    "- `record`: Message describes an actual expense, purchase, or payment that happened (must include specific amounts or clear transaction statements like \"I bought X for Y\", \"paid Z\", \"spent $X on Y\")\n",
    "- `chat`: Everything else, including questions about expenses, requests for information, conversations (even if they mention money-related topics)\n",
    "\n",
    "**Important:** Messages can be in any language. Focus on detecting monetary references regardless of language.\n",
    "\n",
    "**Output Format:** Return only valid JSON matching this schema:\n",
    "```json\n",
    "{\n",
    "  \"intention\": \"chat\" | \"record\"\n",
    "}\n",
    "```\n",
    "\n",
    "**Examples:**\n",
    "- \"buy milk for $20\" → `record`\n",
    "- \"Pay netflix subscription for 120rb\" → `record` \n",
    "- \"I spent 50€ on groceries\" → `record`\n",
    "- \"Berapa pengeluaran saya hari ini?\" → `chat`\n",
    "- \"How much did I spend?\" → `chat`\n",
    "- \"What's my budget?\" → `chat`\n",
    "- \"How are you today?\" → `chat`\n",
    "- \"Tell me a joke\" → `chat`\n",
    "\n",
    "Now classify following message:\n",
    "\"\"\"\n",
    "\n",
    "def detect_intention(message: str):\n",
    "    messages = [\n",
    "        SystemMessage(system_prompt),\n",
    "        HumanMessage(message),\n",
    "    ]\n",
    "    result = with_structured.invoke(messages)\n",
    "    print(f\"Message: {message}, Intention: {result.intention.upper()}\")"
   ]
  },
  {
   "cell_type": "code",
   "execution_count": 40,
   "id": "32dbc9ff",
   "metadata": {},
   "outputs": [
    {
     "name": "stdout",
     "output_type": "stream",
     "text": [
      "Message: How are you?, Intention: CHAT\n",
      "Message: Bayar internet 200rb, Intention: RECORD\n",
      "Message: Apa kabar?, Intention: CHAT\n",
      "Message: Fresh milk $25, Intention: RECORD\n",
      "Message: Berapa pengeluaran saya hari ini?, Intention: CHAT\n",
      "Message: Ikan segar dari pasar 50k. Bayar parkir 5000, Intention: RECORD\n",
      "Message: Just bought apple for $5, why so expensive?, Intention: RECORD\n"
     ]
    }
   ],
   "source": [
    "detect_intention(\"How are you?\")\n",
    "detect_intention(\"Bayar internet 200rb\")\n",
    "detect_intention(\"Apa kabar?\")\n",
    "detect_intention(\"Fresh milk $25\")\n",
    "detect_intention(\"Berapa pengeluaran saya hari ini?\")\n",
    "detect_intention(\"Ikan segar dari pasar 50k. Bayar parkir 5000\")\n",
    "\n",
    "# edge cases, we'll label this as record for now\n",
    "detect_intention(\"Just bought apple for $5, why so expensive?\")"
   ]
  }
 ],
 "metadata": {
  "kernelspec": {
   "display_name": "kasflow",
   "language": "python",
   "name": "python3"
  },
  "language_info": {
   "codemirror_mode": {
    "name": "ipython",
    "version": 3
   },
   "file_extension": ".py",
   "mimetype": "text/x-python",
   "name": "python",
   "nbconvert_exporter": "python",
   "pygments_lexer": "ipython3",
   "version": "3.11.11"
  }
 },
 "nbformat": 4,
 "nbformat_minor": 5
}
